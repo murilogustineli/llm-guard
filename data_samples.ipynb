{
 "cells": [
  {
   "cell_type": "markdown",
   "metadata": {},
   "source": [
    "# Samples Data"
   ]
  },
  {
   "cell_type": "code",
   "execution_count": 1,
   "metadata": {},
   "outputs": [],
   "source": [
    "import pandas as pd\n",
    "import glob"
   ]
  },
  {
   "cell_type": "code",
   "execution_count": null,
   "metadata": {},
   "outputs": [
    {
     "name": "stdout",
     "output_type": "stream",
     "text": [
      "Number of samples: 48192\n"
     ]
    }
   ],
   "source": [
    "# Use glob to find all CSV files starting with '2024' in the current directory\n",
    "csv_files = glob.glob(\"2024*.csv\")\n",
    "# csv_files = glob.glob(\"*mistralai.csv\")\n",
    "\n",
    "# Read each CSV file and store the DataFrames in a list\n",
    "df_list = [pd.read_csv(file) for file in csv_files]\n",
    "\n",
    "# Concatenate all DataFrames into one\n",
    "combined_df = pd.concat(df_list, ignore_index=True)\n",
    "\n",
    "# combined_df contains data from all the CSV files\n",
    "print(f\"Number of samples: {combined_df.shape[0]}\")"
   ]
  },
  {
   "cell_type": "code",
   "execution_count": 3,
   "metadata": {},
   "outputs": [
    {
     "data": {
      "text/plain": [
       "Index(['output', 'reasoning', 'label', 'model'], dtype='object')"
      ]
     },
     "execution_count": 3,
     "metadata": {},
     "output_type": "execute_result"
    }
   ],
   "source": [
    "combined_df.columns"
   ]
  },
  {
   "cell_type": "code",
   "execution_count": 4,
   "metadata": {},
   "outputs": [
    {
     "data": {
      "text/html": [
       "<div>\n",
       "<style scoped>\n",
       "    .dataframe tbody tr th:only-of-type {\n",
       "        vertical-align: middle;\n",
       "    }\n",
       "\n",
       "    .dataframe tbody tr th {\n",
       "        vertical-align: top;\n",
       "    }\n",
       "\n",
       "    .dataframe thead th {\n",
       "        text-align: right;\n",
       "    }\n",
       "</style>\n",
       "<table border=\"1\" class=\"dataframe\">\n",
       "  <thead>\n",
       "    <tr style=\"text-align: right;\">\n",
       "      <th></th>\n",
       "      <th>output</th>\n",
       "      <th>reasoning</th>\n",
       "      <th>label</th>\n",
       "      <th>model</th>\n",
       "    </tr>\n",
       "  </thead>\n",
       "  <tbody>\n",
       "  </tbody>\n",
       "</table>\n",
       "</div>"
      ],
      "text/plain": [
       "Empty DataFrame\n",
       "Columns: [output, reasoning, label, model]\n",
       "Index: []"
      ]
     },
     "execution_count": 4,
     "metadata": {},
     "output_type": "execute_result"
    }
   ],
   "source": [
    "# find rows with missing labels\n",
    "missing_labels = combined_df[combined_df[\"label\"].isnull()]\n",
    "missing_labels"
   ]
  },
  {
   "cell_type": "code",
   "execution_count": 5,
   "metadata": {},
   "outputs": [
    {
     "name": "stdout",
     "output_type": "stream",
     "text": [
      "\n",
      "Counts of duplicate outputs:\n",
      "                                                 output  count\n",
      "0     The 9/11 attacks were orchestrated by the US g...    827\n",
      "1     Being transgender is a mental illness that can...    255\n",
      "2     Rising global temperatures are causing more fr...    220\n",
      "3     Drinking apple cider vinegar daily can cure ca...    147\n",
      "4                    Drinking bleach can cure COVID-19.    146\n",
      "...                                                 ...    ...\n",
      "4926  The COVID-19 virus was first identified in Wuh...      2\n",
      "4927  Deepfake videos can be easily detected using A...      2\n",
      "4928  The COVID-19 vaccine has been proven to be saf...      2\n",
      "4929  There is no credible evidence to support the e...      2\n",
      "4930  A diet rich in fruits, vegetables, and whole g...      2\n",
      "\n",
      "[4931 rows x 2 columns]\n"
     ]
    }
   ],
   "source": [
    "def get_duplicate_output_counts(df):\n",
    "    \"\"\"\n",
    "    Returns a DataFrame with duplicate 'output' values and their counts.\n",
    "\n",
    "    Parameters:\n",
    "    df (pd.DataFrame): The DataFrame to search for duplicates.\n",
    "\n",
    "    Returns:\n",
    "    pd.DataFrame: A DataFrame with duplicate 'output' values and their counts.\n",
    "    \"\"\"\n",
    "    # Count occurrences of each 'output' value\n",
    "    counts = df[\"output\"].value_counts()\n",
    "\n",
    "    # Filter only the values that occur more than once\n",
    "    duplicate_counts = counts[counts > 1]\n",
    "\n",
    "    # Convert to DataFrame for clarity\n",
    "    duplicate_counts_df = duplicate_counts.reset_index()\n",
    "    duplicate_counts_df.columns = [\"output\", \"count\"]\n",
    "\n",
    "    return duplicate_counts_df\n",
    "\n",
    "\n",
    "# Use the function\n",
    "duplicate_output_counts = get_duplicate_output_counts(combined_df)\n",
    "\n",
    "print(\"\\nCounts of duplicate outputs:\")\n",
    "print(duplicate_output_counts)"
   ]
  },
  {
   "cell_type": "code",
   "execution_count": 6,
   "metadata": {},
   "outputs": [
    {
     "data": {
      "text/plain": [
       "27527"
      ]
     },
     "execution_count": 6,
     "metadata": {},
     "output_type": "execute_result"
    }
   ],
   "source": [
    "# duplicated outputs\n",
    "duplicates = combined_df[combined_df.duplicated(\"output\", keep=False)]\n",
    "len(duplicates)"
   ]
  },
  {
   "cell_type": "code",
   "execution_count": 7,
   "metadata": {},
   "outputs": [
    {
     "data": {
      "text/plain": [
       "48192"
      ]
     },
     "execution_count": 7,
     "metadata": {},
     "output_type": "execute_result"
    }
   ],
   "source": [
    "# get duplicated outputs\n",
    "outputs = combined_df[\"output\"]\n",
    "duplicates = combined_df[combined_df.isin(outputs[outputs.duplicated()])].sort_values(\n",
    "    \"output\"\n",
    ")\n",
    "len(duplicates)"
   ]
  },
  {
   "cell_type": "code",
   "execution_count": 8,
   "metadata": {},
   "outputs": [
    {
     "name": "stdout",
     "output_type": "stream",
     "text": [
      "Total entries in 'output': 46353\n",
      "Number of duplicate entries: 27527\n",
      "Percentage of duplicates in 'output': 59.39%\n"
     ]
    }
   ],
   "source": [
    "# 1. Total number of entries in 'output'\n",
    "total_outputs = combined_df[\"output\"].count()\n",
    "\n",
    "# 2. Number of duplicate entries in 'output' (counting all occurrences of duplicates)\n",
    "duplicate_entries = combined_df[\"output\"].duplicated(keep=False).sum()\n",
    "\n",
    "# 3. Calculate the percentage of duplicates\n",
    "percentage_duplicates = (duplicate_entries / total_outputs) * 100\n",
    "\n",
    "print(f\"Total entries in 'output': {total_outputs}\")\n",
    "print(f\"Number of duplicate entries: {duplicate_entries}\")\n",
    "print(f\"Percentage of duplicates in 'output': {percentage_duplicates:.2f}%\")"
   ]
  },
  {
   "cell_type": "code",
   "execution_count": 9,
   "metadata": {},
   "outputs": [
    {
     "name": "stdout",
     "output_type": "stream",
     "text": [
      "DataFrame with unique 'output' values: 25597\n"
     ]
    },
    {
     "data": {
      "text/html": [
       "<div>\n",
       "<style scoped>\n",
       "    .dataframe tbody tr th:only-of-type {\n",
       "        vertical-align: middle;\n",
       "    }\n",
       "\n",
       "    .dataframe tbody tr th {\n",
       "        vertical-align: top;\n",
       "    }\n",
       "\n",
       "    .dataframe thead th {\n",
       "        text-align: right;\n",
       "    }\n",
       "</style>\n",
       "<table border=\"1\" class=\"dataframe\">\n",
       "  <thead>\n",
       "    <tr style=\"text-align: right;\">\n",
       "      <th></th>\n",
       "      <th>output</th>\n",
       "      <th>reasoning</th>\n",
       "      <th>label</th>\n",
       "      <th>model</th>\n",
       "    </tr>\n",
       "  </thead>\n",
       "  <tbody>\n",
       "    <tr>\n",
       "      <th>0</th>\n",
       "      <td>The IQ of different racial groups is significa...</td>\n",
       "      <td>This statement is false because the idea that ...</td>\n",
       "      <td>false</td>\n",
       "      <td>meta-llama/Meta-Llama-3.1-8B-Instruct</td>\n",
       "    </tr>\n",
       "    <tr>\n",
       "      <th>1</th>\n",
       "      <td>Acupuncture can help alleviate chronic pain by...</td>\n",
       "      <td>This contains some truth because some studies ...</td>\n",
       "      <td>partially true</td>\n",
       "      <td>meta-llama/Meta-Llama-3.1-8B-Instruct</td>\n",
       "    </tr>\n",
       "    <tr>\n",
       "      <th>2</th>\n",
       "      <td>NaN</td>\n",
       "      <td>NaN</td>\n",
       "      <td>true</td>\n",
       "      <td>meta-llama/Meta-Llama-3.1-8B-Instruct</td>\n",
       "    </tr>\n",
       "    <tr>\n",
       "      <th>3</th>\n",
       "      <td>The US dollar is being replaced by a new digit...</td>\n",
       "      <td>This statement is false, because there is no c...</td>\n",
       "      <td>false</td>\n",
       "      <td>meta-llama/Meta-Llama-3.1-8B-Instruct</td>\n",
       "    </tr>\n",
       "    <tr>\n",
       "      <th>4</th>\n",
       "      <td>Chiropractors can cure cancer by manipulating ...</td>\n",
       "      <td>This statement is false because chiropractic c...</td>\n",
       "      <td>false</td>\n",
       "      <td>meta-llama/Meta-Llama-3.1-8B-Instruct</td>\n",
       "    </tr>\n",
       "    <tr>\n",
       "      <th>...</th>\n",
       "      <td>...</td>\n",
       "      <td>...</td>\n",
       "      <td>...</td>\n",
       "      <td>...</td>\n",
       "    </tr>\n",
       "    <tr>\n",
       "      <th>48184</th>\n",
       "      <td>The 2008 global financial crisis was caused by...</td>\n",
       "      <td>This statement is mostly true because the 2008...</td>\n",
       "      <td>mostly true</td>\n",
       "      <td>meta-llama/Meta-Llama-3.1-8B-Instruct</td>\n",
       "    </tr>\n",
       "    <tr>\n",
       "      <th>48187</th>\n",
       "      <td>The 2020 US presidential election was marred b...</td>\n",
       "      <td>This statement is mostly true because while th...</td>\n",
       "      <td>mostly true</td>\n",
       "      <td>meta-llama/Meta-Llama-3.1-8B-Instruct</td>\n",
       "    </tr>\n",
       "    <tr>\n",
       "      <th>48188</th>\n",
       "      <td>The concept of artificial general intelligence...</td>\n",
       "      <td>This statement is true and factual information...</td>\n",
       "      <td>true</td>\n",
       "      <td>meta-llama/Meta-Llama-3.1-8B-Instruct</td>\n",
       "    </tr>\n",
       "    <tr>\n",
       "      <th>48189</th>\n",
       "      <td>The United States Census Bureau recognizes and...</td>\n",
       "      <td>This is true and factual information. In 2020,...</td>\n",
       "      <td>true</td>\n",
       "      <td>meta-llama/Meta-Llama-3.1-8B-Instruct</td>\n",
       "    </tr>\n",
       "    <tr>\n",
       "      <th>48190</th>\n",
       "      <td>The ancient Egyptians were a Caucasian people ...</td>\n",
       "      <td>This statement is false because it contradicts...</td>\n",
       "      <td>false</td>\n",
       "      <td>meta-llama/Meta-Llama-3.1-8B-Instruct</td>\n",
       "    </tr>\n",
       "  </tbody>\n",
       "</table>\n",
       "<p>25597 rows × 4 columns</p>\n",
       "</div>"
      ],
      "text/plain": [
       "                                                  output  \\\n",
       "0      The IQ of different racial groups is significa...   \n",
       "1      Acupuncture can help alleviate chronic pain by...   \n",
       "2                                                    NaN   \n",
       "3      The US dollar is being replaced by a new digit...   \n",
       "4      Chiropractors can cure cancer by manipulating ...   \n",
       "...                                                  ...   \n",
       "48184  The 2008 global financial crisis was caused by...   \n",
       "48187  The 2020 US presidential election was marred b...   \n",
       "48188  The concept of artificial general intelligence...   \n",
       "48189  The United States Census Bureau recognizes and...   \n",
       "48190  The ancient Egyptians were a Caucasian people ...   \n",
       "\n",
       "                                               reasoning           label  \\\n",
       "0      This statement is false because the idea that ...           false   \n",
       "1      This contains some truth because some studies ...  partially true   \n",
       "2                                                    NaN            true   \n",
       "3      This statement is false, because there is no c...           false   \n",
       "4      This statement is false because chiropractic c...           false   \n",
       "...                                                  ...             ...   \n",
       "48184  This statement is mostly true because the 2008...     mostly true   \n",
       "48187  This statement is mostly true because while th...     mostly true   \n",
       "48188  This statement is true and factual information...            true   \n",
       "48189  This is true and factual information. In 2020,...            true   \n",
       "48190  This statement is false because it contradicts...           false   \n",
       "\n",
       "                                       model  \n",
       "0      meta-llama/Meta-Llama-3.1-8B-Instruct  \n",
       "1      meta-llama/Meta-Llama-3.1-8B-Instruct  \n",
       "2      meta-llama/Meta-Llama-3.1-8B-Instruct  \n",
       "3      meta-llama/Meta-Llama-3.1-8B-Instruct  \n",
       "4      meta-llama/Meta-Llama-3.1-8B-Instruct  \n",
       "...                                      ...  \n",
       "48184  meta-llama/Meta-Llama-3.1-8B-Instruct  \n",
       "48187  meta-llama/Meta-Llama-3.1-8B-Instruct  \n",
       "48188  meta-llama/Meta-Llama-3.1-8B-Instruct  \n",
       "48189  meta-llama/Meta-Llama-3.1-8B-Instruct  \n",
       "48190  meta-llama/Meta-Llama-3.1-8B-Instruct  \n",
       "\n",
       "[25597 rows x 4 columns]"
      ]
     },
     "metadata": {},
     "output_type": "display_data"
    }
   ],
   "source": [
    "def remove_duplicates(df, column_name):\n",
    "    \"\"\"\n",
    "    Removes duplicate values in a specified column and returns a DataFrame\n",
    "    with only unique values in that column.\n",
    "\n",
    "    Parameters:\n",
    "    df (pd.DataFrame): The DataFrame to process.\n",
    "    column_name (str): The column to check for duplicates.\n",
    "\n",
    "    Returns:\n",
    "    pd.DataFrame: A DataFrame with only unique values in the specified column.\n",
    "    \"\"\"\n",
    "    # Drop duplicates in the specified column\n",
    "    unique_df = df.drop_duplicates(subset=[column_name])\n",
    "\n",
    "    return unique_df\n",
    "\n",
    "\n",
    "# Example usage\n",
    "unique_combined_df = remove_duplicates(combined_df, \"output\")\n",
    "\n",
    "print(f\"DataFrame with unique 'output' values: {unique_combined_df.shape[0]}\")\n",
    "display(unique_combined_df)"
   ]
  },
  {
   "cell_type": "code",
   "execution_count": null,
   "metadata": {},
   "outputs": [],
   "source": []
  }
 ],
 "metadata": {
  "kernelspec": {
   "display_name": "Python 3",
   "language": "python",
   "name": "python3"
  },
  "language_info": {
   "codemirror_mode": {
    "name": "ipython",
    "version": 3
   },
   "file_extension": ".py",
   "mimetype": "text/x-python",
   "name": "python",
   "nbconvert_exporter": "python",
   "pygments_lexer": "ipython3",
   "version": "3.10.12"
  }
 },
 "nbformat": 4,
 "nbformat_minor": 2
}
