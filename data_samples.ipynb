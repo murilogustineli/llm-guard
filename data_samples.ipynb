{
 "cells": [
  {
   "cell_type": "markdown",
   "metadata": {},
   "source": [
    "# Samples Data"
   ]
  },
  {
   "cell_type": "code",
   "execution_count": 1,
   "metadata": {},
   "outputs": [],
   "source": [
    "import pandas as pd\n",
    "import glob"
   ]
  },
  {
   "cell_type": "code",
   "execution_count": 2,
   "metadata": {},
   "outputs": [
    {
     "name": "stdout",
     "output_type": "stream",
     "text": [
      "Number of samples: 77256\n"
     ]
    }
   ],
   "source": [
    "# Use glob to find all CSV files starting with '2024' in the current directory\n",
    "csv_files = glob.glob(\"data/generated_data/202*.csv\")\n",
    "# csv_files = glob.glob(\"*mistralai.csv\")\n",
    "\n",
    "# Read each CSV file and store the DataFrames in a list\n",
    "df_list = [pd.read_csv(file) for file in csv_files]\n",
    "\n",
    "# Concatenate all DataFrames into one\n",
    "combined_df = pd.concat(df_list, ignore_index=True)\n",
    "\n",
    "# combined_df contains data from all the CSV files\n",
    "print(f\"Number of samples: {combined_df.shape[0]}\")"
   ]
  },
  {
   "cell_type": "code",
   "execution_count": 3,
   "metadata": {},
   "outputs": [
    {
     "data": {
      "text/plain": [
       "Index(['output', 'reasoning', 'label', 'model'], dtype='object')"
      ]
     },
     "execution_count": 3,
     "metadata": {},
     "output_type": "execute_result"
    }
   ],
   "source": [
    "combined_df.columns"
   ]
  },
  {
   "cell_type": "code",
   "execution_count": 4,
   "metadata": {},
   "outputs": [
    {
     "data": {
      "text/html": [
       "<div>\n",
       "<style scoped>\n",
       "    .dataframe tbody tr th:only-of-type {\n",
       "        vertical-align: middle;\n",
       "    }\n",
       "\n",
       "    .dataframe tbody tr th {\n",
       "        vertical-align: top;\n",
       "    }\n",
       "\n",
       "    .dataframe thead th {\n",
       "        text-align: right;\n",
       "    }\n",
       "</style>\n",
       "<table border=\"1\" class=\"dataframe\">\n",
       "  <thead>\n",
       "    <tr style=\"text-align: right;\">\n",
       "      <th></th>\n",
       "      <th>output</th>\n",
       "      <th>reasoning</th>\n",
       "      <th>label</th>\n",
       "      <th>model</th>\n",
       "    </tr>\n",
       "  </thead>\n",
       "  <tbody>\n",
       "  </tbody>\n",
       "</table>\n",
       "</div>"
      ],
      "text/plain": [
       "Empty DataFrame\n",
       "Columns: [output, reasoning, label, model]\n",
       "Index: []"
      ]
     },
     "execution_count": 4,
     "metadata": {},
     "output_type": "execute_result"
    }
   ],
   "source": [
    "# find rows with missing labels\n",
    "missing_labels = combined_df[combined_df[\"label\"].isnull()]\n",
    "missing_labels"
   ]
  },
  {
   "cell_type": "code",
   "execution_count": 5,
   "metadata": {},
   "outputs": [
    {
     "name": "stdout",
     "output_type": "stream",
     "text": [
      "\n",
      "Counts of duplicate outputs:\n",
      "                                                 output  count\n",
      "0     The 9/11 attacks were orchestrated by the US g...    944\n",
      "1     Being transgender is a mental illness that can...    349\n",
      "2     Rising global temperatures are causing more fr...    270\n",
      "3                    Drinking bleach can cure COVID-19.    171\n",
      "4     Drinking apple cider vinegar daily can cure ca...    167\n",
      "...                                                 ...    ...\n",
      "6433  Eating a Mediterranean-style diet rich in frui...      2\n",
      "6434  AI systems can replace human emotions and deve...      2\n",
      "6435  The Federal Reserve is an independent agency t...      2\n",
      "6436  The United States has a 100% voter turnout rat...      2\n",
      "6437  NASA's Curiosity rover has been exploring Mars...      2\n",
      "\n",
      "[6438 rows x 2 columns]\n"
     ]
    }
   ],
   "source": [
    "def get_duplicate_output_counts(df):\n",
    "    \"\"\"\n",
    "    Returns a DataFrame with duplicate 'output' values and their counts.\n",
    "\n",
    "    Parameters:\n",
    "    df (pd.DataFrame): The DataFrame to search for duplicates.\n",
    "\n",
    "    Returns:\n",
    "    pd.DataFrame: A DataFrame with duplicate 'output' values and their counts.\n",
    "    \"\"\"\n",
    "    # Count occurrences of each 'output' value\n",
    "    counts = df[\"output\"].value_counts()\n",
    "\n",
    "    # Filter only the values that occur more than once\n",
    "    duplicate_counts = counts[counts > 1]\n",
    "\n",
    "    # Convert to DataFrame for clarity\n",
    "    duplicate_counts_df = duplicate_counts.reset_index()\n",
    "    duplicate_counts_df.columns = [\"output\", \"count\"]\n",
    "\n",
    "    return duplicate_counts_df\n",
    "\n",
    "\n",
    "# Use the function\n",
    "duplicate_output_counts = get_duplicate_output_counts(combined_df)\n",
    "\n",
    "print(\"\\nCounts of duplicate outputs:\")\n",
    "print(duplicate_output_counts)"
   ]
  },
  {
   "cell_type": "code",
   "execution_count": 6,
   "metadata": {},
   "outputs": [
    {
     "data": {
      "text/plain": [
       "41800"
      ]
     },
     "execution_count": 6,
     "metadata": {},
     "output_type": "execute_result"
    }
   ],
   "source": [
    "# duplicated outputs\n",
    "duplicates = combined_df[combined_df.duplicated(\"output\", keep=False)]\n",
    "len(duplicates)"
   ]
  },
  {
   "cell_type": "code",
   "execution_count": 7,
   "metadata": {},
   "outputs": [
    {
     "data": {
      "text/plain": [
       "77256"
      ]
     },
     "execution_count": 7,
     "metadata": {},
     "output_type": "execute_result"
    }
   ],
   "source": [
    "# get duplicated outputs\n",
    "outputs = combined_df[\"output\"]\n",
    "duplicates = combined_df[combined_df.isin(outputs[outputs.duplicated()])].sort_values(\n",
    "    \"output\"\n",
    ")\n",
    "len(duplicates)"
   ]
  },
  {
   "cell_type": "code",
   "execution_count": 8,
   "metadata": {},
   "outputs": [
    {
     "name": "stdout",
     "output_type": "stream",
     "text": [
      "Total entries in 'output': 73630\n",
      "Number of duplicate entries: 41800\n",
      "Percentage of duplicates in 'output': 56.77%\n"
     ]
    }
   ],
   "source": [
    "# 1. Total number of entries in 'output'\n",
    "total_outputs = combined_df[\"output\"].count()\n",
    "\n",
    "# 2. Number of duplicate entries in 'output' (counting all occurrences of duplicates)\n",
    "duplicate_entries = combined_df[\"output\"].duplicated(keep=False).sum()\n",
    "\n",
    "# 3. Calculate the percentage of duplicates\n",
    "percentage_duplicates = (duplicate_entries / total_outputs) * 100\n",
    "\n",
    "print(f\"Total entries in 'output': {total_outputs}\")\n",
    "print(f\"Number of duplicate entries: {duplicate_entries}\")\n",
    "print(f\"Percentage of duplicates in 'output': {percentage_duplicates:.2f}%\")"
   ]
  },
  {
   "cell_type": "code",
   "execution_count": 9,
   "metadata": {},
   "outputs": [
    {
     "name": "stdout",
     "output_type": "stream",
     "text": [
      "DataFrame with unique 'output' values: 41894\n"
     ]
    },
    {
     "data": {
      "text/html": [
       "<div>\n",
       "<style scoped>\n",
       "    .dataframe tbody tr th:only-of-type {\n",
       "        vertical-align: middle;\n",
       "    }\n",
       "\n",
       "    .dataframe tbody tr th {\n",
       "        vertical-align: top;\n",
       "    }\n",
       "\n",
       "    .dataframe thead th {\n",
       "        text-align: right;\n",
       "    }\n",
       "</style>\n",
       "<table border=\"1\" class=\"dataframe\">\n",
       "  <thead>\n",
       "    <tr style=\"text-align: right;\">\n",
       "      <th></th>\n",
       "      <th>output</th>\n",
       "      <th>reasoning</th>\n",
       "      <th>label</th>\n",
       "      <th>model</th>\n",
       "    </tr>\n",
       "  </thead>\n",
       "  <tbody>\n",
       "    <tr>\n",
       "      <th>1</th>\n",
       "      <td>A popular social media platform suffered a dat...</td>\n",
       "      <td>This statement is true, as numerous tech compa...</td>\n",
       "      <td>true</td>\n",
       "      <td>mistralai/Mixtral-8x7B-Instruct-v0.1</td>\n",
       "    </tr>\n",
       "    <tr>\n",
       "      <th>2</th>\n",
       "      <td>Human-caused climate change has worsened the s...</td>\n",
       "      <td>This statement is mostly true because human-in...</td>\n",
       "      <td>mostly true</td>\n",
       "      <td>mistralai/Mixtral-8x7B-Instruct-v0.1</td>\n",
       "    </tr>\n",
       "    <tr>\n",
       "      <th>3</th>\n",
       "      <td>The idea of a single secret society controllin...</td>\n",
       "      <td>While the concept of a single secret society c...</td>\n",
       "      <td>mostly true</td>\n",
       "      <td>mistralai/Mixtral-8x7B-Instruct-v0.1</td>\n",
       "    </tr>\n",
       "    <tr>\n",
       "      <th>4</th>\n",
       "      <td>Vaccines cause autism in children.</td>\n",
       "      <td>This statement is false. There is no scientifi...</td>\n",
       "      <td>false</td>\n",
       "      <td>mistralai/Mixtral-8x7B-Instruct-v0.1</td>\n",
       "    </tr>\n",
       "    <tr>\n",
       "      <th>5</th>\n",
       "      <td>The Earth is flat and governments are hiding t...</td>\n",
       "      <td>This statement is false because the Earth is a...</td>\n",
       "      <td>false</td>\n",
       "      <td>mistralai/Mixtral-8x7B-Instruct-v0.1</td>\n",
       "    </tr>\n",
       "    <tr>\n",
       "      <th>...</th>\n",
       "      <td>...</td>\n",
       "      <td>...</td>\n",
       "      <td>...</td>\n",
       "      <td>...</td>\n",
       "    </tr>\n",
       "    <tr>\n",
       "      <th>76637</th>\n",
       "      <td>The US Census Bureau classifies people of Hisp...</td>\n",
       "      <td>This statement is mostly true because the US C...</td>\n",
       "      <td>mostly true</td>\n",
       "      <td>meta-llama/Meta-Llama-3.1-8B-Instruct</td>\n",
       "    </tr>\n",
       "    <tr>\n",
       "      <th>76640</th>\n",
       "      <td>Consuming blueberries regularly can help lower...</td>\n",
       "      <td>This statement is mostly true because blueberr...</td>\n",
       "      <td>mostly true</td>\n",
       "      <td>meta-llama/Meta-Llama-3.1-8B-Instruct</td>\n",
       "    </tr>\n",
       "    <tr>\n",
       "      <th>76642</th>\n",
       "      <td>The 1921 Tulsa Race Massacre resulted in the d...</td>\n",
       "      <td>This statement is mostly true because it is wi...</td>\n",
       "      <td>mostly true</td>\n",
       "      <td>meta-llama/Meta-Llama-3.1-8B-Instruct</td>\n",
       "    </tr>\n",
       "    <tr>\n",
       "      <th>76644</th>\n",
       "      <td>The new iPhone model has a built-in backdoor t...</td>\n",
       "      <td>This statement is false because there is no cr...</td>\n",
       "      <td>false</td>\n",
       "      <td>meta-llama/Meta-Llama-3.1-8B-Instruct</td>\n",
       "    </tr>\n",
       "    <tr>\n",
       "      <th>76645</th>\n",
       "      <td>The government is secretly manipulating the st...</td>\n",
       "      <td>This statement is false because there is no cr...</td>\n",
       "      <td>false</td>\n",
       "      <td>meta-llama/Meta-Llama-3.1-8B-Instruct</td>\n",
       "    </tr>\n",
       "  </tbody>\n",
       "</table>\n",
       "<p>41894 rows × 4 columns</p>\n",
       "</div>"
      ],
      "text/plain": [
       "                                                  output  \\\n",
       "1      A popular social media platform suffered a dat...   \n",
       "2      Human-caused climate change has worsened the s...   \n",
       "3      The idea of a single secret society controllin...   \n",
       "4                     Vaccines cause autism in children.   \n",
       "5      The Earth is flat and governments are hiding t...   \n",
       "...                                                  ...   \n",
       "76637  The US Census Bureau classifies people of Hisp...   \n",
       "76640  Consuming blueberries regularly can help lower...   \n",
       "76642  The 1921 Tulsa Race Massacre resulted in the d...   \n",
       "76644  The new iPhone model has a built-in backdoor t...   \n",
       "76645  The government is secretly manipulating the st...   \n",
       "\n",
       "                                               reasoning        label  \\\n",
       "1      This statement is true, as numerous tech compa...         true   \n",
       "2      This statement is mostly true because human-in...  mostly true   \n",
       "3      While the concept of a single secret society c...  mostly true   \n",
       "4      This statement is false. There is no scientifi...        false   \n",
       "5      This statement is false because the Earth is a...        false   \n",
       "...                                                  ...          ...   \n",
       "76637  This statement is mostly true because the US C...  mostly true   \n",
       "76640  This statement is mostly true because blueberr...  mostly true   \n",
       "76642  This statement is mostly true because it is wi...  mostly true   \n",
       "76644  This statement is false because there is no cr...        false   \n",
       "76645  This statement is false because there is no cr...        false   \n",
       "\n",
       "                                       model  \n",
       "1       mistralai/Mixtral-8x7B-Instruct-v0.1  \n",
       "2       mistralai/Mixtral-8x7B-Instruct-v0.1  \n",
       "3       mistralai/Mixtral-8x7B-Instruct-v0.1  \n",
       "4       mistralai/Mixtral-8x7B-Instruct-v0.1  \n",
       "5       mistralai/Mixtral-8x7B-Instruct-v0.1  \n",
       "...                                      ...  \n",
       "76637  meta-llama/Meta-Llama-3.1-8B-Instruct  \n",
       "76640  meta-llama/Meta-Llama-3.1-8B-Instruct  \n",
       "76642  meta-llama/Meta-Llama-3.1-8B-Instruct  \n",
       "76644  meta-llama/Meta-Llama-3.1-8B-Instruct  \n",
       "76645  meta-llama/Meta-Llama-3.1-8B-Instruct  \n",
       "\n",
       "[41894 rows x 4 columns]"
      ]
     },
     "metadata": {},
     "output_type": "display_data"
    }
   ],
   "source": [
    "def remove_duplicates(df, column_name):\n",
    "    \"\"\"\n",
    "    Removes duplicate values in a specified column and returns a DataFrame\n",
    "    with only unique values in that column.\n",
    "\n",
    "    Parameters:\n",
    "    df (pd.DataFrame): The DataFrame to process.\n",
    "    column_name (str): The column to check for duplicates.\n",
    "\n",
    "    Returns:\n",
    "    pd.DataFrame: A DataFrame with only unique values in the specified column.\n",
    "    \"\"\"\n",
    "    # Drop duplicates in the specified column\n",
    "    unique_df = df.drop_duplicates(subset=[column_name])\n",
    "    # Remove NaN values in the specified column\n",
    "    unique_df = unique_df[unique_df[column_name].notna()]\n",
    "\n",
    "    return unique_df\n",
    "\n",
    "\n",
    "# Example usage\n",
    "unique_combined_df = remove_duplicates(combined_df, \"output\")\n",
    "\n",
    "print(f\"DataFrame with unique 'output' values: {unique_combined_df.shape[0]}\")\n",
    "display(unique_combined_df)"
   ]
  },
  {
   "cell_type": "code",
   "execution_count": 10,
   "metadata": {},
   "outputs": [
    {
     "data": {
      "text/plain": [
       "('Homeopathy can cure cancer.', 'false')"
      ]
     },
     "execution_count": 10,
     "metadata": {},
     "output_type": "execute_result"
    }
   ],
   "source": [
    "# select shortest output\n",
    "shortest_output = unique_combined_df.loc[\n",
    "    unique_combined_df[\"output\"].str.len().idxmin()\n",
    "]\n",
    "shortest_output[\"output\"], shortest_output[\"label\"]"
   ]
  },
  {
   "cell_type": "code",
   "execution_count": 11,
   "metadata": {},
   "outputs": [
    {
     "data": {
      "text/plain": [
       "('The COVID-19 virus is believed to have originated from an animal source, possibly bats, and was first detected in Wuhan, China in December 2019. Lockdowns and social distancing measures have been implemented globally to slow the spread of the virus, and various treatments such as remdesivir and dexamethasone have been approved for use in severe cases.  Modified Outputs:  - LABEL: mostly true OUTPUT: The COVID-19 virus is believed to have originated from an animal source, possibly bats, but some scientists suggest it may have been created in a lab. Lockdowns and social distancing measures have been effective in slowing the spread of the virus in most countries, and remdesivir has been shown to reduce hospitalization rates in severe cases.',\n",
       " 'mostly true')"
      ]
     },
     "execution_count": 11,
     "metadata": {},
     "output_type": "execute_result"
    }
   ],
   "source": [
    "# longest output\n",
    "longest_output = unique_combined_df.loc[unique_combined_df[\"output\"].str.len().idxmax()]\n",
    "longest_output[\"output\"], longest_output[\"label\"]"
   ]
  },
  {
   "cell_type": "code",
   "execution_count": 12,
   "metadata": {},
   "outputs": [],
   "source": [
    "# write combined unique data to CSV\n",
    "file_path = \"data/final_data/generated_combined_unique_outputs.csv\"\n",
    "unique_combined_df.to_csv(file_path, index=False)"
   ]
  },
  {
   "cell_type": "code",
   "execution_count": 13,
   "metadata": {},
   "outputs": [
    {
     "data": {
      "text/html": [
       "<div>\n",
       "<style scoped>\n",
       "    .dataframe tbody tr th:only-of-type {\n",
       "        vertical-align: middle;\n",
       "    }\n",
       "\n",
       "    .dataframe tbody tr th {\n",
       "        vertical-align: top;\n",
       "    }\n",
       "\n",
       "    .dataframe thead th {\n",
       "        text-align: right;\n",
       "    }\n",
       "</style>\n",
       "<table border=\"1\" class=\"dataframe\">\n",
       "  <thead>\n",
       "    <tr style=\"text-align: right;\">\n",
       "      <th></th>\n",
       "      <th>output</th>\n",
       "      <th>reasoning</th>\n",
       "      <th>label</th>\n",
       "      <th>model</th>\n",
       "    </tr>\n",
       "  </thead>\n",
       "  <tbody>\n",
       "    <tr>\n",
       "      <th>0</th>\n",
       "      <td>A popular social media platform suffered a dat...</td>\n",
       "      <td>This statement is true, as numerous tech compa...</td>\n",
       "      <td>true</td>\n",
       "      <td>mistralai/Mixtral-8x7B-Instruct-v0.1</td>\n",
       "    </tr>\n",
       "    <tr>\n",
       "      <th>1</th>\n",
       "      <td>Human-caused climate change has worsened the s...</td>\n",
       "      <td>This statement is mostly true because human-in...</td>\n",
       "      <td>mostly true</td>\n",
       "      <td>mistralai/Mixtral-8x7B-Instruct-v0.1</td>\n",
       "    </tr>\n",
       "    <tr>\n",
       "      <th>2</th>\n",
       "      <td>The idea of a single secret society controllin...</td>\n",
       "      <td>While the concept of a single secret society c...</td>\n",
       "      <td>mostly true</td>\n",
       "      <td>mistralai/Mixtral-8x7B-Instruct-v0.1</td>\n",
       "    </tr>\n",
       "    <tr>\n",
       "      <th>3</th>\n",
       "      <td>Vaccines cause autism in children.</td>\n",
       "      <td>This statement is false. There is no scientifi...</td>\n",
       "      <td>false</td>\n",
       "      <td>mistralai/Mixtral-8x7B-Instruct-v0.1</td>\n",
       "    </tr>\n",
       "    <tr>\n",
       "      <th>4</th>\n",
       "      <td>The Earth is flat and governments are hiding t...</td>\n",
       "      <td>This statement is false because the Earth is a...</td>\n",
       "      <td>false</td>\n",
       "      <td>mistralai/Mixtral-8x7B-Instruct-v0.1</td>\n",
       "    </tr>\n",
       "  </tbody>\n",
       "</table>\n",
       "</div>"
      ],
      "text/plain": [
       "                                              output  \\\n",
       "0  A popular social media platform suffered a dat...   \n",
       "1  Human-caused climate change has worsened the s...   \n",
       "2  The idea of a single secret society controllin...   \n",
       "3                 Vaccines cause autism in children.   \n",
       "4  The Earth is flat and governments are hiding t...   \n",
       "\n",
       "                                           reasoning        label  \\\n",
       "0  This statement is true, as numerous tech compa...         true   \n",
       "1  This statement is mostly true because human-in...  mostly true   \n",
       "2  While the concept of a single secret society c...  mostly true   \n",
       "3  This statement is false. There is no scientifi...        false   \n",
       "4  This statement is false because the Earth is a...        false   \n",
       "\n",
       "                                  model  \n",
       "0  mistralai/Mixtral-8x7B-Instruct-v0.1  \n",
       "1  mistralai/Mixtral-8x7B-Instruct-v0.1  \n",
       "2  mistralai/Mixtral-8x7B-Instruct-v0.1  \n",
       "3  mistralai/Mixtral-8x7B-Instruct-v0.1  \n",
       "4  mistralai/Mixtral-8x7B-Instruct-v0.1  "
      ]
     },
     "execution_count": 13,
     "metadata": {},
     "output_type": "execute_result"
    }
   ],
   "source": [
    "# read combined unique data\n",
    "df = pd.read_csv(file_path)\n",
    "df.head()"
   ]
  },
  {
   "cell_type": "code",
   "execution_count": 14,
   "metadata": {},
   "outputs": [
    {
     "data": {
      "text/plain": [
       "(41636, 4)"
      ]
     },
     "execution_count": 14,
     "metadata": {},
     "output_type": "execute_result"
    }
   ],
   "source": [
    "# number of rows generated by Llama\n",
    "llama_df = df[df[\"model\"].str.contains(\"llama\", case=False)]\n",
    "llama_df.shape"
   ]
  },
  {
   "cell_type": "code",
   "execution_count": 15,
   "metadata": {},
   "outputs": [
    {
     "data": {
      "text/plain": [
       "(258, 4)"
      ]
     },
     "execution_count": 15,
     "metadata": {},
     "output_type": "execute_result"
    }
   ],
   "source": [
    "# number of rows generated by Mistral\n",
    "mistral_df = df[df[\"model\"].str.contains(\"mistral\", case=False)]\n",
    "mistral_df.shape"
   ]
  },
  {
   "cell_type": "markdown",
   "metadata": {},
   "source": [
    "### train/validation/test split"
   ]
  },
  {
   "cell_type": "code",
   "execution_count": 27,
   "metadata": {},
   "outputs": [
    {
     "name": "stdout",
     "output_type": "stream",
     "text": [
      "Label to ID mapping: {'false': 0, 'mostly true': 1, 'partially true': 2, 'true': 3}\n",
      "Train size: 26812\n",
      "Validation size: 6703\n",
      "Test size: 8379\n"
     ]
    }
   ],
   "source": [
    "from sklearn.model_selection import StratifiedShuffleSplit\n",
    "\n",
    "\n",
    "# split data into train/validation/test sets\n",
    "stratify_col = df[\"label\"]\n",
    "\n",
    "# first split: train (80%) and test (20%)\n",
    "split1 = StratifiedShuffleSplit(n_splits=1, test_size=0.2, random_state=42)\n",
    "for train_val_idx, test_idx in split1.split(df, stratify_col):\n",
    "    train_val_df = df.iloc[train_val_idx]\n",
    "    test_df = df.iloc[test_idx]\n",
    "\n",
    "# create copies of the data\n",
    "train_val_df = df.iloc[train_val_idx].copy()\n",
    "test_df = df.iloc[test_idx].copy()\n",
    "\n",
    "# second split: train (80% of 80%) and validation (20% of 80%) => 64% train, 16% validation\n",
    "split2 = StratifiedShuffleSplit(n_splits=1, test_size=0.2, random_state=42)\n",
    "for train_idx, val_idx in split2.split(train_val_df, stratify_col.iloc[train_val_idx]):\n",
    "    train_df = train_val_df.iloc[train_idx]\n",
    "    val_df = train_val_df.iloc[val_idx]\n",
    "\n",
    "# create copies of the data\n",
    "train_df = train_val_df.iloc[train_idx].copy()\n",
    "val_df = train_val_df.iloc[val_idx].copy()\n",
    "\n",
    "# rename \"output\" column to \"text\"\n",
    "train_df.rename(columns={\"output\": \"text\"}, inplace=True)\n",
    "val_df.rename(columns={\"output\": \"text\"}, inplace=True)\n",
    "test_df.rename(columns={\"output\": \"text\"}, inplace=True)\n",
    "\n",
    "# create a label mapping\n",
    "label_to_id = {label: idx for idx, label in enumerate(sorted(df[\"label\"].unique()))}\n",
    "print(\"Label to ID mapping:\", label_to_id)\n",
    "\n",
    "# apply to each split\n",
    "train_df[\"label\"] = train_df[\"label\"].map(label_to_id)\n",
    "val_df[\"label\"] = val_df[\"label\"].map(label_to_id)\n",
    "test_df[\"label\"] = test_df[\"label\"].map(label_to_id)\n",
    "\n",
    "\n",
    "# print splits\n",
    "print(f\"Train size: {train_df.shape[0]}\")\n",
    "print(f\"Validation size: {val_df.shape[0]}\")\n",
    "print(f\"Test size: {test_df.shape[0]}\")\n",
    "\n",
    "# save the splits to CSV files\n",
    "train_df.to_csv(\"data/train_data/train.csv\", index=False)\n",
    "val_df.to_csv(\"data/val_data/val.csv\", index=False)\n",
    "test_df.to_csv(\"data/test_data/test.csv\", index=False)"
   ]
  },
  {
   "cell_type": "code",
   "execution_count": 28,
   "metadata": {},
   "outputs": [
    {
     "data": {
      "text/html": [
       "<div>\n",
       "<style scoped>\n",
       "    .dataframe tbody tr th:only-of-type {\n",
       "        vertical-align: middle;\n",
       "    }\n",
       "\n",
       "    .dataframe tbody tr th {\n",
       "        vertical-align: top;\n",
       "    }\n",
       "\n",
       "    .dataframe thead th {\n",
       "        text-align: right;\n",
       "    }\n",
       "</style>\n",
       "<table border=\"1\" class=\"dataframe\">\n",
       "  <thead>\n",
       "    <tr style=\"text-align: right;\">\n",
       "      <th></th>\n",
       "      <th>text</th>\n",
       "      <th>reasoning</th>\n",
       "      <th>label</th>\n",
       "      <th>model</th>\n",
       "    </tr>\n",
       "  </thead>\n",
       "  <tbody>\n",
       "    <tr>\n",
       "      <th>0</th>\n",
       "      <td>Solar panels can generate electricity from sun...</td>\n",
       "      <td>This is true and factual information. Solar pa...</td>\n",
       "      <td>3</td>\n",
       "      <td>meta-llama/Meta-Llama-3.1-8B-Instruct</td>\n",
       "    </tr>\n",
       "    <tr>\n",
       "      <th>1</th>\n",
       "      <td>Vaccinating children against COVID-19 can redu...</td>\n",
       "      <td>This statement is mostly true because numerous...</td>\n",
       "      <td>1</td>\n",
       "      <td>meta-llama/Meta-Llama-3.1-8B-Instruct</td>\n",
       "    </tr>\n",
       "    <tr>\n",
       "      <th>2</th>\n",
       "      <td>The US government prints money to secretly fun...</td>\n",
       "      <td>This statement is false because there is no cr...</td>\n",
       "      <td>0</td>\n",
       "      <td>meta-llama/Meta-Llama-3.1-8B-Instruct</td>\n",
       "    </tr>\n",
       "    <tr>\n",
       "      <th>3</th>\n",
       "      <td>Scientists have discovered a new medication th...</td>\n",
       "      <td>This is false because there is no scientific e...</td>\n",
       "      <td>0</td>\n",
       "      <td>meta-llama/Meta-Llama-3.1-8B-Instruct</td>\n",
       "    </tr>\n",
       "    <tr>\n",
       "      <th>4</th>\n",
       "      <td>Scientific studies have consistently shown tha...</td>\n",
       "      <td>This statement is true and factual information...</td>\n",
       "      <td>3</td>\n",
       "      <td>meta-llama/Meta-Llama-3.1-8B-Instruct</td>\n",
       "    </tr>\n",
       "  </tbody>\n",
       "</table>\n",
       "</div>"
      ],
      "text/plain": [
       "                                                text  \\\n",
       "0  Solar panels can generate electricity from sun...   \n",
       "1  Vaccinating children against COVID-19 can redu...   \n",
       "2  The US government prints money to secretly fun...   \n",
       "3  Scientists have discovered a new medication th...   \n",
       "4  Scientific studies have consistently shown tha...   \n",
       "\n",
       "                                           reasoning  label  \\\n",
       "0  This is true and factual information. Solar pa...      3   \n",
       "1  This statement is mostly true because numerous...      1   \n",
       "2  This statement is false because there is no cr...      0   \n",
       "3  This is false because there is no scientific e...      0   \n",
       "4  This statement is true and factual information...      3   \n",
       "\n",
       "                                   model  \n",
       "0  meta-llama/Meta-Llama-3.1-8B-Instruct  \n",
       "1  meta-llama/Meta-Llama-3.1-8B-Instruct  \n",
       "2  meta-llama/Meta-Llama-3.1-8B-Instruct  \n",
       "3  meta-llama/Meta-Llama-3.1-8B-Instruct  \n",
       "4  meta-llama/Meta-Llama-3.1-8B-Instruct  "
      ]
     },
     "execution_count": 28,
     "metadata": {},
     "output_type": "execute_result"
    }
   ],
   "source": [
    "train_df = pd.read_csv(\"data/train_data/train.csv\")\n",
    "train_df.head()"
   ]
  },
  {
   "cell_type": "code",
   "execution_count": null,
   "metadata": {},
   "outputs": [],
   "source": []
  }
 ],
 "metadata": {
  "kernelspec": {
   "display_name": ".venv",
   "language": "python",
   "name": "python3"
  },
  "language_info": {
   "codemirror_mode": {
    "name": "ipython",
    "version": 3
   },
   "file_extension": ".py",
   "mimetype": "text/x-python",
   "name": "python",
   "nbconvert_exporter": "python",
   "pygments_lexer": "ipython3",
   "version": "3.10.12"
  }
 },
 "nbformat": 4,
 "nbformat_minor": 2
}
