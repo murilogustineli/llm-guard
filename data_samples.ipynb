{
 "cells": [
  {
   "cell_type": "markdown",
   "metadata": {},
   "source": [
    "# Samples Data"
   ]
  },
  {
   "cell_type": "code",
   "execution_count": 2,
   "metadata": {},
   "outputs": [],
   "source": [
    "import pandas as pd\n",
    "import glob"
   ]
  },
  {
   "cell_type": "code",
   "execution_count": 19,
   "metadata": {},
   "outputs": [
    {
     "name": "stdout",
     "output_type": "stream",
     "text": [
      "Number of samples: 47187\n"
     ]
    }
   ],
   "source": [
    "# Use glob to find all CSV files starting with '2024' in the current directory\n",
    "csv_files = glob.glob('2024*.csv')\n",
    "\n",
    "# Read each CSV file and store the DataFrames in a list\n",
    "df_list = [pd.read_csv(file) for file in csv_files]\n",
    "\n",
    "# Concatenate all DataFrames into one\n",
    "combined_df = pd.concat(df_list, ignore_index=True)\n",
    "\n",
    "# combined_df contains data from all the CSV files\n",
    "print(f\"Number of samples: {combined_df.shape[0]}\")"
   ]
  },
  {
   "cell_type": "code",
   "execution_count": 20,
   "metadata": {},
   "outputs": [
    {
     "data": {
      "text/plain": [
       "Index(['output', 'reasoning', 'label', 'model'], dtype='object')"
      ]
     },
     "execution_count": 20,
     "metadata": {},
     "output_type": "execute_result"
    }
   ],
   "source": [
    "combined_df.columns"
   ]
  },
  {
   "cell_type": "code",
   "execution_count": 21,
   "metadata": {},
   "outputs": [
    {
     "data": {
      "text/html": [
       "<div>\n",
       "<style scoped>\n",
       "    .dataframe tbody tr th:only-of-type {\n",
       "        vertical-align: middle;\n",
       "    }\n",
       "\n",
       "    .dataframe tbody tr th {\n",
       "        vertical-align: top;\n",
       "    }\n",
       "\n",
       "    .dataframe thead th {\n",
       "        text-align: right;\n",
       "    }\n",
       "</style>\n",
       "<table border=\"1\" class=\"dataframe\">\n",
       "  <thead>\n",
       "    <tr style=\"text-align: right;\">\n",
       "      <th></th>\n",
       "      <th>output</th>\n",
       "      <th>reasoning</th>\n",
       "      <th>label</th>\n",
       "      <th>model</th>\n",
       "    </tr>\n",
       "  </thead>\n",
       "  <tbody>\n",
       "  </tbody>\n",
       "</table>\n",
       "</div>"
      ],
      "text/plain": [
       "Empty DataFrame\n",
       "Columns: [output, reasoning, label, model]\n",
       "Index: []"
      ]
     },
     "execution_count": 21,
     "metadata": {},
     "output_type": "execute_result"
    }
   ],
   "source": [
    "# find rows with missing labels\n",
    "missing_labels = combined_df[combined_df['label'].isnull()]\n",
    "missing_labels"
   ]
  },
  {
   "cell_type": "code",
   "execution_count": 22,
   "metadata": {},
   "outputs": [
    {
     "name": "stdout",
     "output_type": "stream",
     "text": [
      "\n",
      "Counts of duplicate outputs:\n",
      "output\n",
      "The 9/11 attacks were orchestrated by the US government to justify wars in the Middle East.                                                                                          827\n",
      "Being transgender is a mental illness that can be cured through therapy.                                                                                                             255\n",
      "Rising global temperatures are causing more frequent and severe heatwaves.                                                                                                           220\n",
      "Drinking apple cider vinegar daily can cure cancer.                                                                                                                                  147\n",
      "Drinking bleach can cure COVID-19.                                                                                                                                                   146\n",
      "                                                                                                                                                                                    ... \n",
      "In the United States, the Electoral College system ensures that smaller states have a voice in presidential elections by allocating electoral votes based on their population.         2\n",
      "Diversifying a portfolio with low-risk investments can help reduce the impact of market volatility.                                                                                    2\n",
      "The 25th Amendment to the US Constitution allows the Vice President to assume the presidency if the President is unable to perform their duties due to illness or incapacitation.      2\n",
      "The US government has a secret underground bunker where they control the minds of world leaders.                                                                                       2\n",
      "The QAnon movement has been linked to several violent incidents and has been associated with far-right extremist groups.                                                               2\n",
      "Name: count, Length: 4806, dtype: int64\n"
     ]
    }
   ],
   "source": [
    "# Function to get counts of duplicate outputs\n",
    "def get_duplicate_output_counts(df):\n",
    "    \"\"\"\n",
    "    Returns a Series with 'output' values that are duplicated and their counts.\n",
    "\n",
    "    Parameters:\n",
    "    df (pd.DataFrame): The DataFrame to search for duplicates.\n",
    "\n",
    "    Returns:\n",
    "    pd.Series: Counts of duplicate 'output' values.\n",
    "    \"\"\"\n",
    "    counts = df['output'].value_counts()\n",
    "    duplicate_counts = counts[counts > 1]\n",
    "    return duplicate_counts\n",
    "\n",
    "# Use the function\n",
    "duplicate_output_counts = get_duplicate_output_counts(combined_df)\n",
    "\n",
    "print(\"\\nCounts of duplicate outputs:\")\n",
    "print(duplicate_output_counts)"
   ]
  },
  {
   "cell_type": "code",
   "execution_count": 26,
   "metadata": {},
   "outputs": [
    {
     "data": {
      "text/plain": [
       "26523"
      ]
     },
     "execution_count": 26,
     "metadata": {},
     "output_type": "execute_result"
    }
   ],
   "source": [
    "# duplicated outputs\n",
    "duplicates = combined_df[combined_df.duplicated('output', keep=False)]\n",
    "len(duplicates)"
   ]
  },
  {
   "cell_type": "code",
   "execution_count": 29,
   "metadata": {},
   "outputs": [
    {
     "data": {
      "text/plain": [
       "47187"
      ]
     },
     "execution_count": 29,
     "metadata": {},
     "output_type": "execute_result"
    }
   ],
   "source": [
    "# get duplicated outputs\n",
    "outputs = combined_df['output']\n",
    "duplicates = combined_df[combined_df.isin(outputs[outputs.duplicated()])].sort_values(\"output\")\n",
    "len(duplicates)"
   ]
  },
  {
   "cell_type": "code",
   "execution_count": 30,
   "metadata": {},
   "outputs": [
    {
     "name": "stdout",
     "output_type": "stream",
     "text": [
      "Total entries in 'output': 45374\n",
      "Number of duplicate entries: 26523\n",
      "Percentage of duplicates in 'output': 58.45%\n"
     ]
    }
   ],
   "source": [
    "# 1. Total number of entries in 'output'\n",
    "total_outputs = combined_df['output'].count()\n",
    "\n",
    "# 2. Number of duplicate entries in 'output' (counting all occurrences of duplicates)\n",
    "duplicate_entries = combined_df['output'].duplicated(keep=False).sum()\n",
    "\n",
    "# 3. Calculate the percentage of duplicates\n",
    "percentage_duplicates = (duplicate_entries / total_outputs) * 100\n",
    "\n",
    "print(f\"Total entries in 'output': {total_outputs}\")\n",
    "print(f\"Number of duplicate entries: {duplicate_entries}\")\n",
    "print(f\"Percentage of duplicates in 'output': {percentage_duplicates:.2f}%\")"
   ]
  },
  {
   "cell_type": "code",
   "execution_count": null,
   "metadata": {},
   "outputs": [],
   "source": []
  }
 ],
 "metadata": {
  "kernelspec": {
   "display_name": "Python 3",
   "language": "python",
   "name": "python3"
  },
  "language_info": {
   "codemirror_mode": {
    "name": "ipython",
    "version": 3
   },
   "file_extension": ".py",
   "mimetype": "text/x-python",
   "name": "python",
   "nbconvert_exporter": "python",
   "pygments_lexer": "ipython3",
   "version": "3.10.12"
  }
 },
 "nbformat": 4,
 "nbformat_minor": 2
}
