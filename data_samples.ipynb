{
 "cells": [
  {
   "cell_type": "markdown",
   "metadata": {},
   "source": [
    "# Samples Data"
   ]
  },
  {
   "cell_type": "code",
   "execution_count": 1,
   "metadata": {},
   "outputs": [],
   "source": [
    "import pandas as pd\n",
    "import glob"
   ]
  },
  {
   "cell_type": "code",
   "execution_count": 4,
   "metadata": {},
   "outputs": [
    {
     "name": "stdout",
     "output_type": "stream",
     "text": [
      "Number of samples: 69256\n"
     ]
    }
   ],
   "source": [
    "# Use glob to find all CSV files starting with '2024' in the current directory\n",
    "csv_files = glob.glob(\"data/202*.csv\")\n",
    "# csv_files = glob.glob(\"*mistralai.csv\")\n",
    "\n",
    "# Read each CSV file and store the DataFrames in a list\n",
    "df_list = [pd.read_csv(file) for file in csv_files]\n",
    "\n",
    "# Concatenate all DataFrames into one\n",
    "combined_df = pd.concat(df_list, ignore_index=True)\n",
    "\n",
    "# combined_df contains data from all the CSV files\n",
    "print(f\"Number of samples: {combined_df.shape[0]}\")"
   ]
  },
  {
   "cell_type": "code",
   "execution_count": 5,
   "metadata": {},
   "outputs": [
    {
     "data": {
      "text/plain": [
       "Index(['output', 'reasoning', 'label', 'model'], dtype='object')"
      ]
     },
     "execution_count": 5,
     "metadata": {},
     "output_type": "execute_result"
    }
   ],
   "source": [
    "combined_df.columns"
   ]
  },
  {
   "cell_type": "code",
   "execution_count": 6,
   "metadata": {},
   "outputs": [
    {
     "data": {
      "text/html": [
       "<div>\n",
       "<style scoped>\n",
       "    .dataframe tbody tr th:only-of-type {\n",
       "        vertical-align: middle;\n",
       "    }\n",
       "\n",
       "    .dataframe tbody tr th {\n",
       "        vertical-align: top;\n",
       "    }\n",
       "\n",
       "    .dataframe thead th {\n",
       "        text-align: right;\n",
       "    }\n",
       "</style>\n",
       "<table border=\"1\" class=\"dataframe\">\n",
       "  <thead>\n",
       "    <tr style=\"text-align: right;\">\n",
       "      <th></th>\n",
       "      <th>output</th>\n",
       "      <th>reasoning</th>\n",
       "      <th>label</th>\n",
       "      <th>model</th>\n",
       "    </tr>\n",
       "  </thead>\n",
       "  <tbody>\n",
       "  </tbody>\n",
       "</table>\n",
       "</div>"
      ],
      "text/plain": [
       "Empty DataFrame\n",
       "Columns: [output, reasoning, label, model]\n",
       "Index: []"
      ]
     },
     "execution_count": 6,
     "metadata": {},
     "output_type": "execute_result"
    }
   ],
   "source": [
    "# find rows with missing labels\n",
    "missing_labels = combined_df[combined_df[\"label\"].isnull()]\n",
    "missing_labels"
   ]
  },
  {
   "cell_type": "code",
   "execution_count": 7,
   "metadata": {},
   "outputs": [
    {
     "name": "stdout",
     "output_type": "stream",
     "text": [
      "\n",
      "Counts of duplicate outputs:\n",
      "                                                 output  count\n",
      "0     The 9/11 attacks were orchestrated by the US g...    943\n",
      "1     Being transgender is a mental illness that can...    330\n",
      "2     Rising global temperatures are causing more fr...    270\n",
      "3                    Drinking bleach can cure COVID-19.    171\n",
      "4     Drinking apple cider vinegar daily can cure ca...    167\n",
      "...                                                 ...    ...\n",
      "6018  Investing in cryptocurrency can be a lucrative...      2\n",
      "6019  Mail-in ballots are a safe and secure way to c...      2\n",
      "6020  Deepfake videos can be detected by analyzing i...      2\n",
      "6021  The development of AI has led to significant a...      2\n",
      "6022  The Earth's temperature has always fluctuated ...      2\n",
      "\n",
      "[6023 rows x 2 columns]\n"
     ]
    }
   ],
   "source": [
    "def get_duplicate_output_counts(df):\n",
    "    \"\"\"\n",
    "    Returns a DataFrame with duplicate 'output' values and their counts.\n",
    "\n",
    "    Parameters:\n",
    "    df (pd.DataFrame): The DataFrame to search for duplicates.\n",
    "\n",
    "    Returns:\n",
    "    pd.DataFrame: A DataFrame with duplicate 'output' values and their counts.\n",
    "    \"\"\"\n",
    "    # Count occurrences of each 'output' value\n",
    "    counts = df[\"output\"].value_counts()\n",
    "\n",
    "    # Filter only the values that occur more than once\n",
    "    duplicate_counts = counts[counts > 1]\n",
    "\n",
    "    # Convert to DataFrame for clarity\n",
    "    duplicate_counts_df = duplicate_counts.reset_index()\n",
    "    duplicate_counts_df.columns = [\"output\", \"count\"]\n",
    "\n",
    "    return duplicate_counts_df\n",
    "\n",
    "\n",
    "# Use the function\n",
    "duplicate_output_counts = get_duplicate_output_counts(combined_df)\n",
    "\n",
    "print(\"\\nCounts of duplicate outputs:\")\n",
    "print(duplicate_output_counts)"
   ]
  },
  {
   "cell_type": "code",
   "execution_count": 10,
   "metadata": {},
   "outputs": [
    {
     "data": {
      "text/plain": [
       "39496"
      ]
     },
     "execution_count": 10,
     "metadata": {},
     "output_type": "execute_result"
    }
   ],
   "source": [
    "# duplicated outputs\n",
    "duplicates = combined_df[combined_df.duplicated(\"output\", keep=False)]\n",
    "len(duplicates)"
   ]
  },
  {
   "cell_type": "code",
   "execution_count": 11,
   "metadata": {},
   "outputs": [
    {
     "data": {
      "text/plain": [
       "69256"
      ]
     },
     "execution_count": 11,
     "metadata": {},
     "output_type": "execute_result"
    }
   ],
   "source": [
    "# get duplicated outputs\n",
    "outputs = combined_df[\"output\"]\n",
    "duplicates = combined_df[combined_df.isin(outputs[outputs.duplicated()])].sort_values(\n",
    "    \"output\"\n",
    ")\n",
    "len(duplicates)"
   ]
  },
  {
   "cell_type": "code",
   "execution_count": 12,
   "metadata": {},
   "outputs": [
    {
     "name": "stdout",
     "output_type": "stream",
     "text": [
      "Total entries in 'output': 66425\n",
      "Number of duplicate entries: 39496\n",
      "Percentage of duplicates in 'output': 59.46%\n"
     ]
    }
   ],
   "source": [
    "# 1. Total number of entries in 'output'\n",
    "total_outputs = combined_df[\"output\"].count()\n",
    "\n",
    "# 2. Number of duplicate entries in 'output' (counting all occurrences of duplicates)\n",
    "duplicate_entries = combined_df[\"output\"].duplicated(keep=False).sum()\n",
    "\n",
    "# 3. Calculate the percentage of duplicates\n",
    "percentage_duplicates = (duplicate_entries / total_outputs) * 100\n",
    "\n",
    "print(f\"Total entries in 'output': {total_outputs}\")\n",
    "print(f\"Number of duplicate entries: {duplicate_entries}\")\n",
    "print(f\"Percentage of duplicates in 'output': {percentage_duplicates:.2f}%\")"
   ]
  },
  {
   "cell_type": "code",
   "execution_count": 13,
   "metadata": {},
   "outputs": [
    {
     "name": "stdout",
     "output_type": "stream",
     "text": [
      "DataFrame with unique 'output' values: 35784\n"
     ]
    },
    {
     "data": {
      "text/html": [
       "<div>\n",
       "<style scoped>\n",
       "    .dataframe tbody tr th:only-of-type {\n",
       "        vertical-align: middle;\n",
       "    }\n",
       "\n",
       "    .dataframe tbody tr th {\n",
       "        vertical-align: top;\n",
       "    }\n",
       "\n",
       "    .dataframe thead th {\n",
       "        text-align: right;\n",
       "    }\n",
       "</style>\n",
       "<table border=\"1\" class=\"dataframe\">\n",
       "  <thead>\n",
       "    <tr style=\"text-align: right;\">\n",
       "      <th></th>\n",
       "      <th>output</th>\n",
       "      <th>reasoning</th>\n",
       "      <th>label</th>\n",
       "      <th>model</th>\n",
       "    </tr>\n",
       "  </thead>\n",
       "  <tbody>\n",
       "    <tr>\n",
       "      <th>0</th>\n",
       "      <td>NaN</td>\n",
       "      <td>NaN</td>\n",
       "      <td>mostly true</td>\n",
       "      <td>mistralai/Mixtral-8x7B-Instruct-v0.1</td>\n",
       "    </tr>\n",
       "    <tr>\n",
       "      <th>1</th>\n",
       "      <td>A popular social media platform suffered a dat...</td>\n",
       "      <td>This statement is true, as numerous tech compa...</td>\n",
       "      <td>true</td>\n",
       "      <td>mistralai/Mixtral-8x7B-Instruct-v0.1</td>\n",
       "    </tr>\n",
       "    <tr>\n",
       "      <th>2</th>\n",
       "      <td>Human-caused climate change has worsened the s...</td>\n",
       "      <td>This statement is mostly true because human-in...</td>\n",
       "      <td>mostly true</td>\n",
       "      <td>mistralai/Mixtral-8x7B-Instruct-v0.1</td>\n",
       "    </tr>\n",
       "    <tr>\n",
       "      <th>3</th>\n",
       "      <td>The idea of a single secret society controllin...</td>\n",
       "      <td>While the concept of a single secret society c...</td>\n",
       "      <td>mostly true</td>\n",
       "      <td>mistralai/Mixtral-8x7B-Instruct-v0.1</td>\n",
       "    </tr>\n",
       "    <tr>\n",
       "      <th>4</th>\n",
       "      <td>Vaccines cause autism in children.</td>\n",
       "      <td>This statement is false. There is no scientifi...</td>\n",
       "      <td>false</td>\n",
       "      <td>mistralai/Mixtral-8x7B-Instruct-v0.1</td>\n",
       "    </tr>\n",
       "    <tr>\n",
       "      <th>...</th>\n",
       "      <td>...</td>\n",
       "      <td>...</td>\n",
       "      <td>...</td>\n",
       "      <td>...</td>\n",
       "    </tr>\n",
       "    <tr>\n",
       "      <th>68637</th>\n",
       "      <td>The US Census Bureau classifies people of Hisp...</td>\n",
       "      <td>This statement is mostly true because the US C...</td>\n",
       "      <td>mostly true</td>\n",
       "      <td>meta-llama/Meta-Llama-3.1-8B-Instruct</td>\n",
       "    </tr>\n",
       "    <tr>\n",
       "      <th>68640</th>\n",
       "      <td>Consuming blueberries regularly can help lower...</td>\n",
       "      <td>This statement is mostly true because blueberr...</td>\n",
       "      <td>mostly true</td>\n",
       "      <td>meta-llama/Meta-Llama-3.1-8B-Instruct</td>\n",
       "    </tr>\n",
       "    <tr>\n",
       "      <th>68642</th>\n",
       "      <td>The 1921 Tulsa Race Massacre resulted in the d...</td>\n",
       "      <td>This statement is mostly true because it is wi...</td>\n",
       "      <td>mostly true</td>\n",
       "      <td>meta-llama/Meta-Llama-3.1-8B-Instruct</td>\n",
       "    </tr>\n",
       "    <tr>\n",
       "      <th>68644</th>\n",
       "      <td>The new iPhone model has a built-in backdoor t...</td>\n",
       "      <td>This statement is false because there is no cr...</td>\n",
       "      <td>false</td>\n",
       "      <td>meta-llama/Meta-Llama-3.1-8B-Instruct</td>\n",
       "    </tr>\n",
       "    <tr>\n",
       "      <th>68645</th>\n",
       "      <td>The government is secretly manipulating the st...</td>\n",
       "      <td>This statement is false because there is no cr...</td>\n",
       "      <td>false</td>\n",
       "      <td>meta-llama/Meta-Llama-3.1-8B-Instruct</td>\n",
       "    </tr>\n",
       "  </tbody>\n",
       "</table>\n",
       "<p>35784 rows × 4 columns</p>\n",
       "</div>"
      ],
      "text/plain": [
       "                                                  output  \\\n",
       "0                                                    NaN   \n",
       "1      A popular social media platform suffered a dat...   \n",
       "2      Human-caused climate change has worsened the s...   \n",
       "3      The idea of a single secret society controllin...   \n",
       "4                     Vaccines cause autism in children.   \n",
       "...                                                  ...   \n",
       "68637  The US Census Bureau classifies people of Hisp...   \n",
       "68640  Consuming blueberries regularly can help lower...   \n",
       "68642  The 1921 Tulsa Race Massacre resulted in the d...   \n",
       "68644  The new iPhone model has a built-in backdoor t...   \n",
       "68645  The government is secretly manipulating the st...   \n",
       "\n",
       "                                               reasoning        label  \\\n",
       "0                                                    NaN  mostly true   \n",
       "1      This statement is true, as numerous tech compa...         true   \n",
       "2      This statement is mostly true because human-in...  mostly true   \n",
       "3      While the concept of a single secret society c...  mostly true   \n",
       "4      This statement is false. There is no scientifi...        false   \n",
       "...                                                  ...          ...   \n",
       "68637  This statement is mostly true because the US C...  mostly true   \n",
       "68640  This statement is mostly true because blueberr...  mostly true   \n",
       "68642  This statement is mostly true because it is wi...  mostly true   \n",
       "68644  This statement is false because there is no cr...        false   \n",
       "68645  This statement is false because there is no cr...        false   \n",
       "\n",
       "                                       model  \n",
       "0       mistralai/Mixtral-8x7B-Instruct-v0.1  \n",
       "1       mistralai/Mixtral-8x7B-Instruct-v0.1  \n",
       "2       mistralai/Mixtral-8x7B-Instruct-v0.1  \n",
       "3       mistralai/Mixtral-8x7B-Instruct-v0.1  \n",
       "4       mistralai/Mixtral-8x7B-Instruct-v0.1  \n",
       "...                                      ...  \n",
       "68637  meta-llama/Meta-Llama-3.1-8B-Instruct  \n",
       "68640  meta-llama/Meta-Llama-3.1-8B-Instruct  \n",
       "68642  meta-llama/Meta-Llama-3.1-8B-Instruct  \n",
       "68644  meta-llama/Meta-Llama-3.1-8B-Instruct  \n",
       "68645  meta-llama/Meta-Llama-3.1-8B-Instruct  \n",
       "\n",
       "[35784 rows x 4 columns]"
      ]
     },
     "metadata": {},
     "output_type": "display_data"
    }
   ],
   "source": [
    "def remove_duplicates(df, column_name):\n",
    "    \"\"\"\n",
    "    Removes duplicate values in a specified column and returns a DataFrame\n",
    "    with only unique values in that column.\n",
    "\n",
    "    Parameters:\n",
    "    df (pd.DataFrame): The DataFrame to process.\n",
    "    column_name (str): The column to check for duplicates.\n",
    "\n",
    "    Returns:\n",
    "    pd.DataFrame: A DataFrame with only unique values in the specified column.\n",
    "    \"\"\"\n",
    "    # Drop duplicates in the specified column\n",
    "    unique_df = df.drop_duplicates(subset=[column_name])\n",
    "\n",
    "    return unique_df\n",
    "\n",
    "\n",
    "# Example usage\n",
    "unique_combined_df = remove_duplicates(combined_df, \"output\")\n",
    "\n",
    "print(f\"DataFrame with unique 'output' values: {unique_combined_df.shape[0]}\")\n",
    "display(unique_combined_df)"
   ]
  },
  {
   "cell_type": "code",
   "execution_count": null,
   "metadata": {},
   "outputs": [],
   "source": []
  }
 ],
 "metadata": {
  "kernelspec": {
   "display_name": "Python 3",
   "language": "python",
   "name": "python3"
  },
  "language_info": {
   "codemirror_mode": {
    "name": "ipython",
    "version": 3
   },
   "file_extension": ".py",
   "mimetype": "text/x-python",
   "name": "python",
   "nbconvert_exporter": "python",
   "pygments_lexer": "ipython3",
   "version": "3.undefined.undefined"
  }
 },
 "nbformat": 4,
 "nbformat_minor": 2
}
